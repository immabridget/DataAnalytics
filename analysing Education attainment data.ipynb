{
 "cells": [
  {
   "cell_type": "code",
   "execution_count": 1,
   "metadata": {},
   "outputs": [],
   "source": [
    "import pandas as pd"
   ]
  },
  {
   "cell_type": "code",
   "execution_count": 3,
   "metadata": {},
   "outputs": [
    {
     "ename": "NameError",
     "evalue": "name 'data' is not defined",
     "output_type": "error",
     "traceback": [
      "\u001b[1;31m---------------------------------------------------------------------------\u001b[0m",
      "\u001b[1;31mNameError\u001b[0m                                 Traceback (most recent call last)",
      "\u001b[1;32m<ipython-input-3-bce0de36b51d>\u001b[0m in \u001b[0;36m<module>\u001b[1;34m\u001b[0m\n\u001b[0;32m      2\u001b[0m     \u001b[0mdata\u001b[0m\u001b[1;33m=\u001b[0m\u001b[0mpd\u001b[0m\u001b[1;33m.\u001b[0m\u001b[0mread_csv\u001b[0m\u001b[1;33m(\u001b[0m\u001b[1;34m\"Education_attainment.csv\"\u001b[0m \u001b[1;33m,\u001b[0m \u001b[0mna_values\u001b[0m\u001b[1;33m=\u001b[0m\u001b[1;34m\"---\"\u001b[0m\u001b[1;33m)\u001b[0m\u001b[1;33m\u001b[0m\u001b[1;33m\u001b[0m\u001b[0m\n\u001b[0;32m      3\u001b[0m     \u001b[0mdata\u001b[0m\u001b[1;33m=\u001b[0m\u001b[0mpd\u001b[0m\u001b[1;33m.\u001b[0m\u001b[0mdataFrame\u001b[0m\u001b[1;33m(\u001b[0m\u001b[0mdata\u001b[0m\u001b[1;33m)\u001b[0m\u001b[1;33m\u001b[0m\u001b[1;33m\u001b[0m\u001b[0m\n\u001b[1;32m----> 4\u001b[1;33m \u001b[0mdata\u001b[0m\u001b[1;33m.\u001b[0m\u001b[0mhead\u001b[0m\u001b[1;33m(\u001b[0m\u001b[1;36m20\u001b[0m\u001b[1;33m)\u001b[0m\u001b[1;33m\u001b[0m\u001b[1;33m\u001b[0m\u001b[0m\n\u001b[0m\u001b[0;32m      5\u001b[0m \u001b[1;33m\u001b[0m\u001b[0m\n",
      "\u001b[1;31mNameError\u001b[0m: name 'data' is not defined"
     ]
    }
   ],
   "source": [
    "def loadData(data):\n",
    "    data=pd.read_csv(\"Education_attainment.csv\" , na_values=\"---\")\n",
    "    data=pd.dataFrame(data)\n",
    "data.head(20)\n",
    "    \n"
   ]
  },
  {
   "cell_type": "code",
   "execution_count": 4,
   "metadata": {},
   "outputs": [],
   "source": [
    "data=pd.read_csv(\"Education_attainment.csv\" , na_values=\"---\")"
   ]
  },
  {
   "cell_type": "code",
   "execution_count": 6,
   "metadata": {},
   "outputs": [
    {
     "data": {
      "text/html": [
       "<div>\n",
       "<style scoped>\n",
       "    .dataframe tbody tr th:only-of-type {\n",
       "        vertical-align: middle;\n",
       "    }\n",
       "\n",
       "    .dataframe tbody tr th {\n",
       "        vertical-align: top;\n",
       "    }\n",
       "\n",
       "    .dataframe thead th {\n",
       "        text-align: right;\n",
       "    }\n",
       "</style>\n",
       "<table border=\"1\" class=\"dataframe\">\n",
       "  <thead>\n",
       "    <tr style=\"text-align: right;\">\n",
       "      <th></th>\n",
       "      <th>Year</th>\n",
       "      <th>Sex</th>\n",
       "      <th>Min degree</th>\n",
       "      <th>Total</th>\n",
       "      <th>White</th>\n",
       "      <th>Black</th>\n",
       "      <th>Hispanic</th>\n",
       "      <th>Asian</th>\n",
       "      <th>Pacific Islander</th>\n",
       "      <th>American Indian/Alaska Native</th>\n",
       "      <th>Two or more races</th>\n",
       "    </tr>\n",
       "  </thead>\n",
       "  <tbody>\n",
       "    <tr>\n",
       "      <th>0</th>\n",
       "      <td>1920</td>\n",
       "      <td>A</td>\n",
       "      <td>high school</td>\n",
       "      <td>NaN</td>\n",
       "      <td>22.0</td>\n",
       "      <td>6.3</td>\n",
       "      <td>NaN</td>\n",
       "      <td>NaN</td>\n",
       "      <td>NaN</td>\n",
       "      <td>NaN</td>\n",
       "      <td>NaN</td>\n",
       "    </tr>\n",
       "    <tr>\n",
       "      <th>1</th>\n",
       "      <td>1940</td>\n",
       "      <td>A</td>\n",
       "      <td>high school</td>\n",
       "      <td>38.1</td>\n",
       "      <td>41.2</td>\n",
       "      <td>12.3</td>\n",
       "      <td>NaN</td>\n",
       "      <td>NaN</td>\n",
       "      <td>NaN</td>\n",
       "      <td>NaN</td>\n",
       "      <td>NaN</td>\n",
       "    </tr>\n",
       "    <tr>\n",
       "      <th>2</th>\n",
       "      <td>1950</td>\n",
       "      <td>A</td>\n",
       "      <td>high school</td>\n",
       "      <td>52.8</td>\n",
       "      <td>56.3</td>\n",
       "      <td>23.6</td>\n",
       "      <td>NaN</td>\n",
       "      <td>NaN</td>\n",
       "      <td>NaN</td>\n",
       "      <td>NaN</td>\n",
       "      <td>NaN</td>\n",
       "    </tr>\n",
       "    <tr>\n",
       "      <th>3</th>\n",
       "      <td>1960</td>\n",
       "      <td>A</td>\n",
       "      <td>high school</td>\n",
       "      <td>60.7</td>\n",
       "      <td>63.7</td>\n",
       "      <td>38.6</td>\n",
       "      <td>NaN</td>\n",
       "      <td>NaN</td>\n",
       "      <td>NaN</td>\n",
       "      <td>NaN</td>\n",
       "      <td>NaN</td>\n",
       "    </tr>\n",
       "    <tr>\n",
       "      <th>4</th>\n",
       "      <td>1970</td>\n",
       "      <td>A</td>\n",
       "      <td>high school</td>\n",
       "      <td>75.4</td>\n",
       "      <td>77.8</td>\n",
       "      <td>58.4</td>\n",
       "      <td>NaN</td>\n",
       "      <td>NaN</td>\n",
       "      <td>NaN</td>\n",
       "      <td>NaN</td>\n",
       "      <td>NaN</td>\n",
       "    </tr>\n",
       "    <tr>\n",
       "      <th>...</th>\n",
       "      <td>...</td>\n",
       "      <td>...</td>\n",
       "      <td>...</td>\n",
       "      <td>...</td>\n",
       "      <td>...</td>\n",
       "      <td>...</td>\n",
       "      <td>...</td>\n",
       "      <td>...</td>\n",
       "      <td>...</td>\n",
       "      <td>...</td>\n",
       "      <td>...</td>\n",
       "    </tr>\n",
       "    <tr>\n",
       "      <th>209</th>\n",
       "      <td>2014</td>\n",
       "      <td>F</td>\n",
       "      <td>master's</td>\n",
       "      <td>9.3</td>\n",
       "      <td>11.1</td>\n",
       "      <td>5.0</td>\n",
       "      <td>3.6</td>\n",
       "      <td>20.8</td>\n",
       "      <td>NaN</td>\n",
       "      <td>NaN</td>\n",
       "      <td>7.5</td>\n",
       "    </tr>\n",
       "    <tr>\n",
       "      <th>210</th>\n",
       "      <td>2015</td>\n",
       "      <td>F</td>\n",
       "      <td>master's</td>\n",
       "      <td>10.4</td>\n",
       "      <td>12.0</td>\n",
       "      <td>7.2</td>\n",
       "      <td>4.1</td>\n",
       "      <td>23.2</td>\n",
       "      <td>NaN</td>\n",
       "      <td>NaN</td>\n",
       "      <td>10.2</td>\n",
       "    </tr>\n",
       "    <tr>\n",
       "      <th>211</th>\n",
       "      <td>2016</td>\n",
       "      <td>F</td>\n",
       "      <td>master's</td>\n",
       "      <td>11.2</td>\n",
       "      <td>12.3</td>\n",
       "      <td>6.3</td>\n",
       "      <td>6.3</td>\n",
       "      <td>28.8</td>\n",
       "      <td>NaN</td>\n",
       "      <td>NaN</td>\n",
       "      <td>8.2</td>\n",
       "    </tr>\n",
       "    <tr>\n",
       "      <th>212</th>\n",
       "      <td>2017</td>\n",
       "      <td>F</td>\n",
       "      <td>master's</td>\n",
       "      <td>10.5</td>\n",
       "      <td>11.8</td>\n",
       "      <td>6.8</td>\n",
       "      <td>5.0</td>\n",
       "      <td>25.8</td>\n",
       "      <td>NaN</td>\n",
       "      <td>NaN</td>\n",
       "      <td>5.4</td>\n",
       "    </tr>\n",
       "    <tr>\n",
       "      <th>213</th>\n",
       "      <td>2018</td>\n",
       "      <td>F</td>\n",
       "      <td>master's</td>\n",
       "      <td>10.7</td>\n",
       "      <td>12.6</td>\n",
       "      <td>6.2</td>\n",
       "      <td>3.8</td>\n",
       "      <td>29.9</td>\n",
       "      <td>NaN</td>\n",
       "      <td>NaN</td>\n",
       "      <td>NaN</td>\n",
       "    </tr>\n",
       "  </tbody>\n",
       "</table>\n",
       "<p>214 rows × 11 columns</p>\n",
       "</div>"
      ],
      "text/plain": [
       "     Year Sex   Min degree  Total  White  Black  Hispanic  Asian  \\\n",
       "0    1920   A  high school    NaN   22.0    6.3       NaN    NaN   \n",
       "1    1940   A  high school   38.1   41.2   12.3       NaN    NaN   \n",
       "2    1950   A  high school   52.8   56.3   23.6       NaN    NaN   \n",
       "3    1960   A  high school   60.7   63.7   38.6       NaN    NaN   \n",
       "4    1970   A  high school   75.4   77.8   58.4       NaN    NaN   \n",
       "..    ...  ..          ...    ...    ...    ...       ...    ...   \n",
       "209  2014   F     master's    9.3   11.1    5.0       3.6   20.8   \n",
       "210  2015   F     master's   10.4   12.0    7.2       4.1   23.2   \n",
       "211  2016   F     master's   11.2   12.3    6.3       6.3   28.8   \n",
       "212  2017   F     master's   10.5   11.8    6.8       5.0   25.8   \n",
       "213  2018   F     master's   10.7   12.6    6.2       3.8   29.9   \n",
       "\n",
       "     Pacific Islander  American Indian/Alaska Native  Two or more races  \n",
       "0                 NaN                            NaN                NaN  \n",
       "1                 NaN                            NaN                NaN  \n",
       "2                 NaN                            NaN                NaN  \n",
       "3                 NaN                            NaN                NaN  \n",
       "4                 NaN                            NaN                NaN  \n",
       "..                ...                            ...                ...  \n",
       "209               NaN                            NaN                7.5  \n",
       "210               NaN                            NaN               10.2  \n",
       "211               NaN                            NaN                8.2  \n",
       "212               NaN                            NaN                5.4  \n",
       "213               NaN                            NaN                NaN  \n",
       "\n",
       "[214 rows x 11 columns]"
      ]
     },
     "execution_count": 6,
     "metadata": {},
     "output_type": "execute_result"
    }
   ],
   "source": [
    "data"
   ]
  },
  {
   "cell_type": "code",
   "execution_count": 33,
   "metadata": {},
   "outputs": [],
   "source": [
    "import pandas as pd\n",
    "from pandas import Series, DataFrame\n",
    "import seaborn as sns\n",
    "import matplotlib.pyplot as plt\n",
    "\n",
    "# Apply the default theme\n",
    "sns.set_theme()\n",
    "\n",
    "# Load an example dataset\n",
    "data1=pd.read_csv(\"Education_attainment.csv\" , na_values=\"---\")\n",
    "#creating a dataframe\n",
    "data1=pd.DataFrame(data1)\n",
    "#rename the column total to Percentantage without creating new obj\n",
    "data1.rename(columns={'Total':'Percentage'},inplace=True)\n",
    "def barchart(data1):\n",
    "    #filtering the conditions\n",
    "    filter1=data1['Year']==2009\n",
    "    filter2=data1['Min degree']==\"high school\"\n",
    "\n",
    "    data1.where(filter1&filter2, inplace=True)\n",
    "    # Create a visualization\n",
    "    sns.barplot(x=data1[\"Sex\"], y=data1[\"Percentage\"], \n",
    "        data=data1)\n",
    "    #set the title for the chart\n",
    "    plt.title(\"Percentage Completed School by Sex\")\n",
    "plt.show()\n",
    "\n",
    "\n"
   ]
  },
  {
   "cell_type": "code",
   "execution_count": 34,
   "metadata": {},
   "outputs": [
    {
     "data": {
      "image/png": "[encoded data removed]",
      "text/plain": [
       "<Figure size 432x288 with 1 Axes>"
      ]
     },
     "metadata": {},
     "output_type": "display_data"
    }
   ],
   "source": [
    "barchart(data1)"
   ]
  },
  {
   "cell_type": "code",
   "execution_count": 37,
   "metadata": {},
   "outputs": [],
   "source": [
    "import pandas as pd\n",
    "from pandas import Series, DataFrame\n",
    "import seaborn as sns\n",
    "import matplotlib.pyplot as plt\n",
    "\n",
    "# Apply the default theme\n",
    "sns.set_theme()\n",
    "\n",
    "# Load an example dataset\n",
    "data2=pd.read_csv(\"Education_attainment.csv\" , na_values=\"---\")\n",
    "#creating a dataframe\n",
    "data2=pd.DataFrame(data2)\n",
    "#rename the column total to Percentantage without creating new obj\n",
    "data2.rename(columns={'Total':'Percentage'},inplace=True)\n",
    "def lineChart(data2):\n",
    "    #filtering the data\n",
    "    filter3=data2.loc[data2['Sex']=='A']\n",
    "    filter4=filter3['Min degree']==\"bachelor's\"\n",
    "    sns.lineplot(x=filter3[\"Year\"],y=filter3[\"Percentage\"], \n",
    "    data=filter3.where(filter4,inplace=True))\n",
    "    plt.title(\"Percentage Earning Bachelor's over Years\")\n",
    "plt.show()"
   ]
  },
  {
   "cell_type": "code",
   "execution_count": 38,
   "metadata": {},
   "outputs": [
    {
     "name": "stderr",
     "output_type": "stream",
     "text": [
      "C:\\Users\\Immeculate\\anaconda3\\lib\\site-packages\\pandas\\core\\generic.py:9004: SettingWithCopyWarning: \n",
      "A value is trying to be set on a copy of a slice from a DataFrame\n",
      "\n",
      "See the caveats in the documentation: https://pandas.pydata.org/pandas-docs/stable/user_guide/indexing.html#returning-a-view-versus-a-copy\n",
      "  return self._where(\n"
     ]
    },
    {
     "data": {
      "image/png": "[encoded data removed]",
      "text/plain": [
       "<Figure size 432x288 with 1 Axes>"
      ]
     },
     "metadata": {},
     "output_type": "display_data"
    }
   ],
   "source": [
    "lineChart(data2)"
   ]
  },
  {
   "cell_type": "code",
   "execution_count": 13,
   "metadata": {},
   "outputs": [],
   "source": [
    "import pandas as pd\n",
    "from pandas import Series, DataFrame\n",
    "import seaborn as sns\n",
    "import matplotlib.pyplot as plt\n",
    "\n",
    "# Apply the default theme\n",
    "sns.set_theme()\n",
    "\n",
    "# Load an example dataset\n",
    "data3=pd.read_csv(\"Education_attainment.csv\" , na_values=\"---\")\n",
    "#creating a dataframe\n",
    "data3=pd.DataFrame(data3)\n",
    "#rename the column total to Percentantage without creating new obj\n",
    "data3.rename(columns={'Total':'Percentage'},inplace=True)\n",
    "#creating a function to compute percentage degrees in 1980 for men vs women\n",
    "def bache1980(data3):\n",
    "    #filtering the year 1980\n",
    "    data_year=data3[data3['Year'] == 1980]\n",
    "    #filtering Sex and degree\n",
    "    data_year = data_year[data_year['Min degree'] == \"bachelor's\"]\n",
    "    data_year = data_year[data_year['Sex'] != 'A']\n",
    "    data_year = data_year[['Sex', 'Percentage']]\n",
    "    print(data_year)\n"
   ]
  },
  {
   "cell_type": "code",
   "execution_count": 14,
   "metadata": {},
   "outputs": [
    {
     "name": "stdout",
     "output_type": "stream",
     "text": [
      "    Sex  Percentage\n",
      "112   M        24.0\n",
      "180   F        21.0\n"
     ]
    }
   ],
   "source": [
    "bache1980(data3)"
   ]
  },
  {
   "cell_type": "code",
   "execution_count": 84,
   "metadata": {},
   "outputs": [],
   "source": [
    "import pandas as pd\n",
    "from pandas import Series, DataFrame\n",
    "# Load an example dataset\n",
    "data4=pd.read_csv(\"Education_attainment.csv\", na_values='---')\n",
    "#creating a dataframe\n",
    "data4= pd.DataFrame(data4)\n",
    "#a function to get the difference of total percentage of bachelors 2000-2010\n",
    "def differ(data4):\n",
    "    #compute sum for 2000\n",
    "    degreedata = data4[(data4['Year']==2000)]\n",
    "    degreedata= degreedata[(degreedata['Min degree']=='bachelor\\'s')]\n",
    "    degreedata = degreedata[['Total']]\n",
    "    sum1=degreedata.sum()\n",
    "    \n",
    "    #compute sum for 2010\n",
    "    degreedata1 = data4[(data4['Year']==2010)]\n",
    "    degreedata1= degreedata1[(degreedata1['Min degree']=='bachelor\\'s')]\n",
    "    degreedata1 = degreedata1[['Total']]\n",
    "    sum2=degreedata1.sum()\n",
    "    #calculate the difference\n",
    "    result=sum2-sum1\n",
    "    print(result)"
   ]
  },
  {
   "cell_type": "code",
   "execution_count": 85,
   "metadata": {},
   "outputs": [
    {
     "name": "stdout",
     "output_type": "stream",
     "text": [
      "Total    8.1\n",
      "dtype: float64\n"
     ]
    }
   ],
   "source": [
    "differ(data4)"
   ]
  },
  {
   "cell_type": "code",
   "execution_count": 55,
   "metadata": {},
   "outputs": [],
   "source": [
    "import pandas as pd\n",
    "from pandas import Series, DataFrame\n",
    "import seaborn as sns\n",
    "import matplotlib.pyplot as plt\n",
    "\n",
    "# Apply the default theme\n",
    "sns.set_theme()\n",
    "\n",
    "# Load an example dataset\n",
    "data5=pd.read_csv(\"Education_attainment.csv\" , na_values=\"---\")\n",
    "#creating a dataframe\n",
    "data5=pd.DataFrame(data5)\n",
    "#rename the column total to Percentantage without creating new obj\n",
    "data5.rename(columns={'Total':'Percentage'},inplace=True)\n",
    "#creating a function to calculate the percentage\n",
    "def hispanic(data5):\n",
    "    #filtering the data\n",
    "    data5 = data5[data5['Year'] >= 1990]\n",
    "    data5 = data5[data5['Year'] <= 2010]\n",
    "    data5 = data5[data5['Min degree'].str.contains(\"associate's\") == False]\n",
    "    data5 = data5[data5['Min degree'].str.contains(\"master's\") == False]\n",
    "    #Creating a visualization\n",
    "    sns.barplot(x = data5['Year'], y = data5['Hispanic'], data = data5)\n",
    "    plt.title(\"Percentage of Hispanic individuals between 1990 and 2010\")\n",
    "    plt.show()"
   ]
  },
  {
   "cell_type": "code",
   "execution_count": 57,
   "metadata": {},
   "outputs": [
    {
     "data": {
      "image/png": "[encoded data removed]",
      "text/plain": [
       "<Figure size 432x288 with 1 Axes>"
      ]
     },
     "metadata": {},
     "output_type": "display_data"
    }
   ],
   "source": [
    "hispanic(data5)"
   ]
  },
  {
   "cell_type": "code",
   "execution_count": 66,
   "metadata": {},
   "outputs": [],
   "source": [
    "import pandas as pd\n",
    "from pandas import Series, DataFrame\n",
    "# Load an example dataset\n",
    "data6=pd.read_csv(\"Education_attainment.csv\", na_values='---')\n",
    "#creating a dataframe\n",
    "data6= pd.DataFrame(data6)\n",
    "#a function to get most commonly awarded\n",
    "def commonlyawarded(data6):\n",
    "    #filtering the year\n",
    "    data6=data6.loc[((data6['Year']>=2000) & (data6['Year']<=2010)),({'Sex':'','Min degree':'','Total':''})]\n",
    "    #filter the Sex\n",
    "    filter6= data6[data6['Sex'] == 'A']\n",
    "    #computer te mean of the degrees\n",
    "    meandegree=filter6.groupby('Min degree').mean()\n",
    "    meandegree['rank']=meandegree.rank()\n",
    "    result=meandegree.sort_values(by='rank', ascending= False)\n",
    "    result=result.iloc[:2,:1]\n",
    "    print(pd.DataFrame(result))"
   ]
  },
  {
   "cell_type": "code",
   "execution_count": 67,
   "metadata": {},
   "outputs": [
    {
     "name": "stdout",
     "output_type": "stream",
     "text": [
      "                 Total\n",
      "Min degree            \n",
      "high school  87.557143\n",
      "associate's  38.757143\n"
     ]
    }
   ],
   "source": [
    "commonlyawarded(data6)"
   ]
  },
  {
   "cell_type": "code",
   "execution_count": 15,
   "metadata": {},
   "outputs": [
    {
     "ename": "NameError",
     "evalue": "name 'filter6' is not defined",
     "output_type": "error",
     "traceback": [
      "\u001b[1;31m---------------------------------------------------------------------------\u001b[0m",
      "\u001b[1;31mNameError\u001b[0m                                 Traceback (most recent call last)",
      "\u001b[1;32m<ipython-input-15-b23443ea05a2>\u001b[0m in \u001b[0;36m<module>\u001b[1;34m\u001b[0m\n\u001b[1;32m----> 1\u001b[1;33m \u001b[0mmeandegree\u001b[0m\u001b[1;33m=\u001b[0m\u001b[0mfilter6\u001b[0m\u001b[1;33m.\u001b[0m\u001b[0mgroupby\u001b[0m\u001b[1;33m(\u001b[0m\u001b[1;34m'Min degree'\u001b[0m\u001b[1;33m)\u001b[0m\u001b[1;33m.\u001b[0m\u001b[0mmean\u001b[0m\u001b[1;33m(\u001b[0m\u001b[1;33m)\u001b[0m\u001b[1;33m\u001b[0m\u001b[1;33m\u001b[0m\u001b[0m\n\u001b[0m",
      "\u001b[1;31mNameError\u001b[0m: name 'filter6' is not defined"
     ]
    }
   ],
   "source": []
  },
  {
   "cell_type": "code",
   "execution_count": null,
   "metadata": {},
   "outputs": [],
   "source": []
  }
 ],
 "metadata": {
  "kernelspec": {
   "display_name": "Python 3",
   "language": "python",
   "name": "python3"
  },
  "language_info": {
   "codemirror_mode": {
    "name": "ipython",
    "version": 3
   },
   "file_extension": ".py",
   "mimetype": "text/x-python",
   "name": "python",
   "nbconvert_exporter": "python",
   "pygments_lexer": "ipython3",
   "version": "3.8.5"
  }
 },
 "nbformat": 4,
 "nbformat_minor": 4
}
